{
 "cells": [
  {
   "cell_type": "markdown",
   "metadata": {},
   "source": [
    "# Project Euler 104"
   ]
  },
  {
   "cell_type": "markdown",
   "metadata": {},
   "source": [
    "The problem is to find the smallest Fibonacci number with the first 9 digits pandigital (containing 1..9 as digits), and also the last 9 digits pandigital."
   ]
  },
  {
   "cell_type": "code",
   "execution_count": 1,
   "metadata": {
    "collapsed": true
   },
   "outputs": [],
   "source": [
    "from numba import jit\n",
    "import numpy as np"
   ]
  },
  {
   "cell_type": "code",
   "execution_count": 2,
   "metadata": {
    "collapsed": true
   },
   "outputs": [],
   "source": [
    "@jit\n",
    "def fibSimple():\n",
    "    '''\n",
    "    Simple Fibonacci.\n",
    "    '''\n",
    "    yield 0, 0\n",
    "    n = 1\n",
    "    prev = 0\n",
    "    last = 1\n",
    "    while True:\n",
    "        yield n, last\n",
    "        n = n + 1\n",
    "        prev, last = last, prev+last\n",
    "\n",
    "# This fails with @jit\n",
    "def fibFloat():\n",
    "    '''\n",
    "    Infinite list of floating point numbers where the approximations to the Fibonacci numbers.\n",
    "    '''\n",
    "    # integers\n",
    "    n = 0 # the nth Fibonacci number\n",
    "    y = -1 # pull out a factor of 10**y\n",
    "    # floats\n",
    "    golden = (1 + np.sqrt(5)) / 2\n",
    "    f = 10 / np.sqrt(5)\n",
    "    \n",
    "    while True:\n",
    "        yield n, f, y\n",
    "        n = n + 1\n",
    "        f = golden * f\n",
    "        if f > 10:\n",
    "            f = f / 10\n",
    "            y = y + 1\n",
    "            "
   ]
  },
  {
   "cell_type": "code",
   "execution_count": 3,
   "metadata": {
    "collapsed": false
   },
   "outputs": [
    {
     "name": "stdout",
     "output_type": "stream",
     "text": [
      "0 0 0.0 4.472135955 -1\n",
      "1 1 1.0 7.2360679775 -1\n",
      "2 1 1.0 1.17082039325 0\n",
      "3 2 2.0 1.894427191 0\n",
      "4 3 3.0 3.06524758425 0\n",
      "5 5 5.0 4.95967477525 0\n",
      "6 8 8.0 8.0249223595 0\n",
      "7 13 13.0 1.29845971347 1\n",
      "8 21 21.0 2.10095194942 1\n",
      "9 34 34.0 3.3994116629 1\n",
      "10 55 55.0 5.50036361232 1\n",
      "11 89 89.0 8.89977527522 1\n",
      "12 144 144.0 1.44001388875 2\n",
      "13 233 233.0 2.32999141628 2\n",
      "14 377 377.0 3.77000530503 2\n",
      "15 610 610.0 6.09999672131 2\n",
      "16 987 987.0 9.87000202634 2\n",
      "17 1597 1597.0 1.59699987477 3\n",
      "18 2584 2584.0 2.5840000774 3\n",
      "19 4181 4181.0 4.18099995216 3\n",
      "20 6765 6765.0 6.76500002956 3\n",
      "21 10946 10946.0 1.09459999817 4\n"
     ]
    }
   ],
   "source": [
    "# Demonstrate this is really doing Fibonacci...\n",
    "for ((ns, fs), (n, f, y)) in zip(fibSimple(), fibFloat()):\n",
    "    if ns != n:\n",
    "        raise ValueError('cannot even count')\n",
    "    ff = np.round(f * 10**y)\n",
    "    if fs != ff:\n",
    "        raise ValueError('fail')\n",
    "    print(n, fs, ff, f, y)\n",
    "    if n > 20:\n",
    "        break"
   ]
  },
  {
   "cell_type": "code",
   "execution_count": 4,
   "metadata": {
    "collapsed": false
   },
   "outputs": [],
   "source": [
    "@jit\n",
    "def pandigitalFloat(f):\n",
    "    '''\n",
    "    Check if the first n digits of f are pandigital.\n",
    "    Assumes f has one digit to the left of the decimal point,\n",
    "    but does not check (for efficiency). After all, this has\n",
    "    a specific use for which that is OK.\n",
    "    '''\n",
    "    buffer = np.zeros(10, dtype=bool)\n",
    "    buffer[0] = True # if you find any zero, it cannot be \n",
    "    r = f\n",
    "    for j in range(9):\n",
    "        nf = np.floor(r)\n",
    "        ni = int(nf)\n",
    "        r = 10 * (r - nf) # expose one more digit\n",
    "        if buffer[ni]:\n",
    "            return False\n",
    "        buffer[ni] = True\n",
    "    return True # made it through 9 digits and found no 0, and no double counts"
   ]
  },
  {
   "cell_type": "code",
   "execution_count": 5,
   "metadata": {
    "collapsed": false
   },
   "outputs": [
    {
     "data": {
      "text/plain": [
       "True"
      ]
     },
     "execution_count": 5,
     "metadata": {},
     "output_type": "execute_result"
    }
   ],
   "source": [
    "pandigitalFloat(1.2345678998765)"
   ]
  },
  {
   "cell_type": "code",
   "execution_count": 6,
   "metadata": {
    "collapsed": false
   },
   "outputs": [
    {
     "data": {
      "text/plain": [
       "False"
      ]
     },
     "execution_count": 6,
     "metadata": {},
     "output_type": "execute_result"
    }
   ],
   "source": [
    "pandigitalFloat(9.98734566)"
   ]
  },
  {
   "cell_type": "code",
   "execution_count": 7,
   "metadata": {
    "collapsed": true
   },
   "outputs": [],
   "source": [
    "@jit\n",
    "def startPanDigital():\n",
    "    '''\n",
    "    Infinite list of Fibonacci numbers that start off pandigital.\n",
    "    '''\n",
    "    for n, f, y in fibFloat():\n",
    "        if y < 10:\n",
    "            continue\n",
    "        if pandigitalFloat(f):\n",
    "            yield n, f, y\n",
    "            "
   ]
  },
  {
   "cell_type": "code",
   "execution_count": 8,
   "metadata": {
    "collapsed": false
   },
   "outputs": [
    {
     "name": "stdout",
     "output_type": "stream",
     "text": [
      "(2749, 1.4372689553389257, 574)\n",
      "(4589, 4.9521763865736137, 958)\n",
      "(7102, 7.5986432142729168, 1483)\n",
      "(7727, 3.1478295605429634, 1614)\n",
      "(8198, 8.5347296185526567, 1712)\n",
      "(9383, 3.8154297647901476, 1960)\n",
      "(12633, 6.1854923741889349, 2639)\n",
      "(15708, 2.6814397584614751, 3282)\n",
      "(19014, 2.1953648727152033, 3973)\n",
      "(21206, 2.769581431772437, 4431)\n",
      "(21303, 5.1786342956357068, 4451)\n",
      "(21434, 1.234798564357511, 4479)\n",
      "CPU times: user 547 ms, sys: 3.39 ms, total: 550 ms\n",
      "Wall time: 549 ms\n"
     ]
    }
   ],
   "source": [
    "%%time\n",
    "count = 12\n",
    "for z in startPanDigital():\n",
    "    print(z)\n",
    "    count = count - 1\n",
    "    if count <= 0:\n",
    "        break"
   ]
  },
  {
   "cell_type": "markdown",
   "metadata": {},
   "source": [
    "This confirms that the first leading pandigital Fibonacci number is $F_{2749}$, which has 575 digits. Also, there are others in the list, and they are fairly efficient to find.\n",
    "\n",
    "So now that I have a generator that lists the (probably infinite) list of Fibonacci's that are leading pandigital, I need to filter out the ones that are trailing pandigital. For this, I use the fact that\n",
    "$$\n",
    "\\left(\\begin{array}{cc} F_{n+1} & F_n \\\\ F_n & F_{n-1} \\end{array}\\right)\n",
    "= \\left(\\begin{array}{cc} 1 & 1 \\\\ 1 & 0 \\end{array}\\right)^n \\mod m\n",
    "$$\n",
    "(see the Wikipedia page on Fibonacci numbers). \n",
    "Thus, if $m = 10^9$, we may easily compute the last $9$ digits of $F_n$ for any large $n$, and check\n",
    "it for theh pandigital property."
   ]
  },
  {
   "cell_type": "code",
   "execution_count": 9,
   "metadata": {
    "collapsed": true
   },
   "outputs": [],
   "source": [
    "@jit\n",
    "def matN_modM(A, n, m):\n",
    "    '''\n",
    "    Compute the matrix A**n mod m\n",
    "    This method is proportional to log_2 n, so can work with large n.\n",
    "    '''\n",
    "    if n == 0:\n",
    "        return np.eye(A.shape[0], dtype=int)\n",
    "    if np.mod(n, 2) == 0:\n",
    "        h = n // 2 # half of n as an integer\n",
    "        M = matN_modM(A, h, m)\n",
    "        return np.mod(M * M, m)\n",
    "    else:\n",
    "        M = matN_modM(A, n-1, m)\n",
    "        return np.mod(A * M, m)\n",
    "        \n",
    "@jit    \n",
    "def fibModular(n, m=1000000000):\n",
    "    '''\n",
    "    Compute F_n mod m as an integer.\n",
    "    '''\n",
    "    A = np.matrix([[1,1],[1,0]], dtype=int)\n",
    "    An = matN_modM(A, n, m)\n",
    "    return An[0,1]"
   ]
  },
  {
   "cell_type": "code",
   "execution_count": 10,
   "metadata": {
    "collapsed": false
   },
   "outputs": [
    {
     "data": {
      "text/plain": [
       "matrix([[10946,  6765],\n",
       "        [ 6765,  4181]])"
      ]
     },
     "execution_count": 10,
     "metadata": {},
     "output_type": "execute_result"
    }
   ],
   "source": [
    "A = np.matrix([[1,1],[1,0]], dtype=int)\n",
    "A ** 20"
   ]
  },
  {
   "cell_type": "code",
   "execution_count": 11,
   "metadata": {
    "collapsed": false
   },
   "outputs": [
    {
     "data": {
      "text/plain": [
       "matrix([[10946,  6765],\n",
       "        [ 6765,  4181]])"
      ]
     },
     "execution_count": 11,
     "metadata": {},
     "output_type": "execute_result"
    }
   ],
   "source": [
    "matN_modM(A, 20, 1000000)"
   ]
  },
  {
   "cell_type": "code",
   "execution_count": 12,
   "metadata": {
    "collapsed": false
   },
   "outputs": [
    {
     "data": {
      "text/plain": [
       "6765"
      ]
     },
     "execution_count": 12,
     "metadata": {},
     "output_type": "execute_result"
    }
   ],
   "source": [
    "fibModular(20)"
   ]
  },
  {
   "cell_type": "markdown",
   "metadata": {},
   "source": [
    "Thus, the thing works for moderate sized Fibonacci numbers. \n",
    "\n",
    "One more check from the Project Euler problem statement verifies that $F_{541}$ is ending pandigital:"
   ]
  },
  {
   "cell_type": "code",
   "execution_count": 13,
   "metadata": {
    "collapsed": false
   },
   "outputs": [
    {
     "data": {
      "text/plain": [
       "839725641"
      ]
     },
     "execution_count": 13,
     "metadata": {},
     "output_type": "execute_result"
    }
   ],
   "source": [
    "fibModular(541)"
   ]
  },
  {
   "cell_type": "markdown",
   "metadata": {},
   "source": [
    "In general, I need a pandigital checker for an integer now..."
   ]
  },
  {
   "cell_type": "code",
   "execution_count": 14,
   "metadata": {
    "collapsed": true
   },
   "outputs": [],
   "source": [
    "@jit\n",
    "def pandigitalInt(n):\n",
    "    '''\n",
    "    Decide whether or not the integer n is pandigital.\n",
    "    '''\n",
    "    buffer = np.zeros(10, dtype=bool)\n",
    "    buffer[0] = True # if you find any zero, it cannot be \n",
    "    for j in range(9):\n",
    "        d, n = np.mod(n, 10), n // 10\n",
    "        if buffer[d]:\n",
    "            return False\n",
    "        buffer[d] = True\n",
    "    if n == 0:\n",
    "        return True # made it through 9 digits and found no 0, and no double counts\n",
    "    else:\n",
    "        return False"
   ]
  },
  {
   "cell_type": "code",
   "execution_count": 15,
   "metadata": {
    "collapsed": false
   },
   "outputs": [
    {
     "data": {
      "text/plain": [
       "True"
      ]
     },
     "execution_count": 15,
     "metadata": {},
     "output_type": "execute_result"
    }
   ],
   "source": [
    "pandigitalInt(123456789)"
   ]
  },
  {
   "cell_type": "code",
   "execution_count": 16,
   "metadata": {
    "collapsed": false
   },
   "outputs": [
    {
     "data": {
      "text/plain": [
       "False"
      ]
     },
     "execution_count": 16,
     "metadata": {},
     "output_type": "execute_result"
    }
   ],
   "source": [
    "pandigitalInt(120456789)"
   ]
  },
  {
   "cell_type": "code",
   "execution_count": 17,
   "metadata": {
    "collapsed": false
   },
   "outputs": [
    {
     "data": {
      "text/plain": [
       "True"
      ]
     },
     "execution_count": 17,
     "metadata": {},
     "output_type": "execute_result"
    }
   ],
   "source": [
    "pandigitalInt(fibModular(541))"
   ]
  },
  {
   "cell_type": "markdown",
   "metadata": {},
   "source": [
    "Thus, I can put together the previous generator for leading pandigital $F$ with a filter for following pandigital numbers..."
   ]
  },
  {
   "cell_type": "code",
   "execution_count": 18,
   "metadata": {
    "collapsed": true
   },
   "outputs": [],
   "source": [
    "@jit\n",
    "def bothPandigital():\n",
    "    '''\n",
    "    Generate an infinite list of n for which $F_n$ is leading\n",
    "    and following pandigital.\n",
    "    '''\n",
    "    for n, f, y in startPanDigital():\n",
    "        fnMod = fibModular(n)\n",
    "        if pandigitalInt(fnMod):\n",
    "            yield n, fnMod, f, y+1"
   ]
  },
  {
   "cell_type": "code",
   "execution_count": 19,
   "metadata": {
    "collapsed": false
   },
   "outputs": [
    {
     "name": "stdout",
     "output_type": "stream",
     "text": [
      "(329468, 352786941, 2.4568173918884835, 68855)\n",
      "CPU times: user 5.84 s, sys: 5.19 ms, total: 5.84 s\n",
      "Wall time: 5.84 s\n"
     ]
    }
   ],
   "source": [
    "%%time\n",
    "for z in bothPandigital():\n",
    "    print(z)\n",
    "    break"
   ]
  },
  {
   "cell_type": "markdown",
   "metadata": {},
   "source": [
    "Therefore, the first one is $F_{329468}$, a $68855$ digit number that has leading digits $245681739$, and trailing digits $352786941$.\n",
    "\n",
    "It takes between 5 and 6 seconds to compute on my Mac.\n",
    "\n",
    "It takes somewhat longer to compute more of them..."
   ]
  },
  {
   "cell_type": "code",
   "execution_count": 20,
   "metadata": {
    "collapsed": false
   },
   "outputs": [
    {
     "name": "stdout",
     "output_type": "stream",
     "text": [
      "(329468, 352786941, 2.4568173918884835, 68855)\n",
      "(6496145, 197283645, 4.6215397847121347, 1357614)\n",
      "CPU times: user 1min 51s, sys: 48.4 ms, total: 1min 51s\n",
      "Wall time: 1min 51s\n"
     ]
    }
   ],
   "source": [
    "%%time\n",
    "count = 2\n",
    "for z in bothPandigital():\n",
    "    print(z)\n",
    "    count = count - 1\n",
    "    if count <= 0:\n",
    "        break"
   ]
  },
  {
   "cell_type": "markdown",
   "metadata": {},
   "source": [
    "So, I found the second one, $F_{6496145}$, a $1357614$ digit number that has leading digits $462153978$, and trailing digits $197283645$, in a little less than two minutes."
   ]
  },
  {
   "cell_type": "code",
   "execution_count": null,
   "metadata": {
    "collapsed": true
   },
   "outputs": [],
   "source": []
  }
 ],
 "metadata": {
  "kernelspec": {
   "display_name": "Python 3",
   "language": "python",
   "name": "python3"
  },
  "language_info": {
   "codemirror_mode": {
    "name": "ipython",
    "version": 3
   },
   "file_extension": ".py",
   "mimetype": "text/x-python",
   "name": "python",
   "nbconvert_exporter": "python",
   "pygments_lexer": "ipython3",
   "version": "3.4.3"
  }
 },
 "nbformat": 4,
 "nbformat_minor": 0
}
